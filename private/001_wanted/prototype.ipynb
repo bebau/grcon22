{
 "cells": [
  {
   "cell_type": "code",
   "execution_count": null,
   "id": "82fdbf88-4e03-4ee4-b192-a39fc4e24675",
   "metadata": {},
   "outputs": [],
   "source": [
    "from PIL import Image\n",
    "import numpy as np\n",
    "import sigmf\n",
    "import matplotlib.pyplot as plt\n",
    "import swiftfox # only used for plotting\n",
    "from scipy.signal import resample_poly, hilbert, spectrogram\n",
    "from matplotlib import cm\n",
    "from scipy.io import wavfile"
   ]
  },
  {
   "cell_type": "markdown",
   "id": "bc943c18-ba58-4116-9597-e2a5e6493d93",
   "metadata": {},
   "source": [
    "# Load Wanted Poster\n",
    "* Throw away last row of poster\n",
    "* Insert Preamble row with 16 sync symbols and 7 primes"
   ]
  },
  {
   "cell_type": "code",
   "execution_count": null,
   "id": "794f6d22-ae9b-4bf2-b750-8d192447bcb3",
   "metadata": {},
   "outputs": [],
   "source": [
    "with Image.open('2022-09_gort-wanted_v1_dither-edd-stucki.png') as img:\n",
    "    print(np.array(img.convert('1')))"
   ]
  },
  {
   "cell_type": "code",
   "execution_count": null,
   "id": "9edb020d-d4fa-4425-a0bf-256ec12ad84e",
   "metadata": {},
   "outputs": [],
   "source": [
    "preamble = [255, 0] * 16\n",
    "for run in [2,3,5,7,11,13,17]:\n",
    "    preamble += [255]*run + [0]\n",
    "preamble = np.array(preamble, dtype=np.uint8)\n",
    "\n",
    "with Image.open('2022-09_gort-wanted_v1_dither-edd-stucki.png') as img:\n",
    "    # display(img)\n",
    "    # display(img.convert('1'))\n",
    "    npimg = np.array(img.convert('L'))\n",
    "    # npimg = np.array(img.convert('1'))\n",
    "    # place prime sequence at start\n",
    "    npimg = np.vstack((preamble, npimg[0:-1]))\n",
    "    print(npimg.shape)\n",
    "    img = Image.fromarray(npimg)\n",
    "    vimg = Image.fromarray(np.uint8(cm.viridis(npimg)*255))\n",
    "    display(img.convert('1'))\n",
    "    npimg2 = np.array(img.convert('1'))\n",
    "    display(img)\n",
    "    display(vimg)\n",
    "# print(npimg[0:3])\n",
    "# with open('1bitimg_unpacked.b','wb') as derp:\n",
    "#     derp.write(npimg2.tobytes())\n",
    "with open('1bitimg_packed.b', 'wb') as derp:\n",
    "    # 5 bit preamble to remove later\n",
    "    derp.write(np.packbits(np.hstack((\n",
    "        np.ones(5, dtype=bool),\n",
    "        npimg2.ravel(),\n",
    "        np.zeros(16, dtype=bool),\n",
    "    ))).tobytes())\n",
    "    "
   ]
  },
  {
   "cell_type": "code",
   "execution_count": null,
   "id": "f36f7ba8-caee-44f7-a57b-1c314ef07054",
   "metadata": {},
   "outputs": [],
   "source": [
    "# assure I have an even number of bytes\n",
    "(5+npimg2.ravel().shape[0])/8"
   ]
  },
  {
   "cell_type": "code",
   "execution_count": null,
   "id": "bfa2e88b-dc00-48fb-b534-22158b898d41",
   "metadata": {},
   "outputs": [],
   "source": [
    "# assure I have boolean array of correct shape\n",
    "npimg2.ravel()"
   ]
  },
  {
   "cell_type": "markdown",
   "id": "47cdd563-753d-4dd1-b436-2eda4c7dfc6e",
   "metadata": {},
   "source": [
    "## Load FSK Symbols output from flowgraph"
   ]
  },
  {
   "cell_type": "code",
   "execution_count": null,
   "id": "3ec31607-7f6f-47d5-9bb6-d60a7637a845",
   "metadata": {},
   "outputs": [],
   "source": [
    "# wierd padding on GFSK mod.\n",
    "# start: inserted 5, cut off 7\n",
    "# end: inserted 16, cut off 14\n",
    "samp_rate = 400e3\n",
    "sps = 777\n",
    "samps_fsk = np.fromfile('fsk_mod.fc32', dtype=np.complex64)[7*sps:-14*sps]"
   ]
  },
  {
   "cell_type": "code",
   "execution_count": null,
   "id": "65bedd1d-f24a-4690-940b-384e8cd19754",
   "metadata": {},
   "outputs": [],
   "source": [
    "107*97, samps_fsk.shape[0]/400e3"
   ]
  },
  {
   "cell_type": "code",
   "execution_count": null,
   "id": "2c8ffdc1-2b8e-49ea-bd95-b53fcb3e726e",
   "metadata": {},
   "outputs": [],
   "source": [
    "107*97*777/400e3"
   ]
  },
  {
   "cell_type": "code",
   "execution_count": null,
   "id": "dff3f517-14cb-4d72-98ec-993bd17ee99b",
   "metadata": {},
   "outputs": [],
   "source": [
    "npimg2.ravel()[-8:], npimg2.shape"
   ]
  },
  {
   "cell_type": "markdown",
   "id": "7e8a52ff-762a-4c68-9224-e720eb084bef",
   "metadata": {},
   "source": [
    " Inspect FSK Bits"
   ]
  },
  {
   "cell_type": "code",
   "execution_count": null,
   "id": "11e95c98-481d-4a1e-a708-8b19c3802702",
   "metadata": {},
   "outputs": [],
   "source": [
    "# clip = resample_poly(samps_fsk[sps*(107*2-3):sps*107*2],1,20)\n",
    "clip = resample_poly(samps_fsk[sps*0:sps*107],1,10)\n",
    "# clip = resample_poly(samps_fsk[-sps*(8):],1,10)\n",
    "plt.plot(np.unwrap(np.angle(clip)))\n",
    "for i in range(0,5):\n",
    "    plt.axvline(i*sps*8//10,alpha=.8,color='red')\n",
    "plt.title('first 32 bits should be idle')\n",
    "plt.show()\n",
    "# plt.plot(clip.real)\n",
    "# plt.plot(clip.imag)\n",
    "# plt.show()\n",
    "# plt.figure(figsize=(16,5))\n",
    "# swiftfox.smartspec(clip, samp_rate=400e3/10,detail=.2)\n",
    "# plt.show()"
   ]
  },
  {
   "cell_type": "markdown",
   "id": "d69adc10-af55-4208-af20-dcc0a60e4e4a",
   "metadata": {},
   "source": [
    "### pad for 60 second capture (rev2)"
   ]
  },
  {
   "cell_type": "code",
   "execution_count": null,
   "id": "d37d3f36-777a-4485-bf74-65c53593a472",
   "metadata": {},
   "outputs": [],
   "source": [
    "pad_required = int(60 * samp_rate - samps_fsk.shape[0])\n",
    "pad_front = int(13.171 * samp_rate)\n",
    "print(pad_required/400e3)\n",
    "samps_fsk_padded = np.hstack((\n",
    "    np.zeros(pad_front,dtype=np.complex64),\n",
    "    samps_fsk,\n",
    "    np.zeros(pad_required-pad_front,dtype=np.complex64)))\n",
    "samps_fsk_padded.shape[0]/400e3"
   ]
  },
  {
   "cell_type": "markdown",
   "id": "fdd595ef-b87b-45b7-b326-3bccddb50752",
   "metadata": {},
   "source": [
    "# read background & insert our data\n",
    "Note raw waveform not in repo"
   ]
  },
  {
   "cell_type": "code",
   "execution_count": null,
   "id": "01b79fb7-9a94-4a3e-8143-dc5e491b1e47",
   "metadata": {},
   "outputs": [],
   "source": [
    "handle = sigmf.sigmffile.fromfile('/home/kal29868/Projects/gr-k6of/arc0/out.sigmf-data')\n",
    "samps = handle.read_samples()[0:int(60*samp_rate)]"
   ]
  },
  {
   "cell_type": "code",
   "execution_count": null,
   "id": "fe7ca162-673f-4b08-8992-1bb1f92cb267",
   "metadata": {},
   "outputs": [],
   "source": [
    "len(handle)/400e3"
   ]
  },
  {
   "cell_type": "code",
   "execution_count": null,
   "id": "df02acd6-1fdf-418b-89e5-94db0aceb6fa",
   "metadata": {},
   "outputs": [],
   "source": [
    "# the built-in scipy spectrogram sucks\n",
    "# plt.figure(figsize=(16,9))\n",
    "# spec_freqs, spec_times, spec = spectrogram(samps[0:int(samp_rate*10)], samp_rate, nperseg=8192)\n",
    "# plt.imshow(spec,aspect='auto', )\n",
    "# plt.ylabel('Frequency [Hz]')\n",
    "# plt.xlabel('Time [sec]')\n",
    "# plt.show()"
   ]
  },
  {
   "cell_type": "code",
   "execution_count": null,
   "id": "caac24e8-87e2-402a-a200-38a228a1862b",
   "metadata": {},
   "outputs": [],
   "source": [
    "plt.figure(figsize=(16,9))\n",
    "_=swiftfox.smartspec(samps, samp_rate=samp_rate)\n",
    "plt.show()"
   ]
  },
  {
   "cell_type": "markdown",
   "id": "7a2f8b82-44bc-4271-8cc1-f72d0b2d668f",
   "metadata": {},
   "source": [
    "### Insert our data\n",
    "+79.06 KHz offset puts the signal at Hydrogen Line / 100"
   ]
  },
  {
   "cell_type": "code",
   "execution_count": null,
   "id": "459855ff-49f2-407b-a41c-1e7c78a4f28d",
   "metadata": {},
   "outputs": [],
   "source": [
    "# lower the amplitude of our inserted signal so it looks okay against the background\n",
    "shifted = swiftfox.freqshift((samps_fsk_padded / 20e3), samp_rate, 79.06e3+100e3).astype(np.complex64)\n",
    "merged = shifted + samps"
   ]
  },
  {
   "cell_type": "code",
   "execution_count": null,
   "id": "19b0894a-ec08-4875-bebe-2f0b18f228c8",
   "metadata": {},
   "outputs": [],
   "source": [
    "plt.figure(figsize=(16,9))\n",
    "_=swiftfox.summary(merged, samp_rate=samp_rate)"
   ]
  },
  {
   "cell_type": "markdown",
   "id": "97cfd102-a7d3-4c85-9433-25b555cbf751",
   "metadata": {},
   "source": [
    "## add newspaper instructions WAV as AM-USB-SC"
   ]
  },
  {
   "cell_type": "code",
   "execution_count": null,
   "id": "0eae36d9-1e4f-4f72-823d-b4b3cf4a6ac7",
   "metadata": {},
   "outputs": [],
   "source": [
    "# Insert WAV\n",
    "#!ffmpeg -y -i /home/kal29868/Dropbox/shared/grcon/newspaper.mp4 -af aresample=resampler=soxr -ar 48000 newspaper.wav"
   ]
  },
  {
   "cell_type": "code",
   "execution_count": null,
   "id": "be0dd6b0-1942-45a6-bbd2-1ba907cfcae5",
   "metadata": {},
   "outputs": [],
   "source": [
    "news_rate, newspaper = wavfile.read('newspaper_truncated.wav')\n",
    "hil_newspaper = hilbert(newspaper.astype(np.float32)).astype(np.complex64) # now we have SSB-SC (USB) version\n",
    "len(newspaper)/48e3\n"
   ]
  },
  {
   "cell_type": "code",
   "execution_count": null,
   "id": "25c0da9f-3ca9-47af-b146-eceeac28f876",
   "metadata": {},
   "outputs": [],
   "source": [
    "plt.plot(hil_newspaper[-5000:]);plt.show()"
   ]
  },
  {
   "cell_type": "code",
   "execution_count": null,
   "id": "a1c7097d-7b0e-4b37-998e-5067ed28e325",
   "metadata": {},
   "outputs": [],
   "source": [
    "_=swiftfox.smartspec(hil_newspaper, samp_rate=48e3)"
   ]
  },
  {
   "cell_type": "code",
   "execution_count": null,
   "id": "8d8340d9-2a57-4314-8cae-8fba7bab4b85",
   "metadata": {},
   "outputs": [],
   "source": [
    "from scipy.signal import butter, lfilter, freqz\n",
    "import matplotlib.pyplot as plt\n",
    "\n",
    "\n",
    "def butter_lowpass(cutoff, fs, order=5):\n",
    "    return butter(order, cutoff, fs=fs, btype='low', analog=False)\n",
    "\n",
    "def butter_lowpass_filter(data, cutoff, fs, order=5):\n",
    "    b, a = butter_lowpass(cutoff, fs, order=order)\n",
    "    y = lfilter(b, a, data)\n",
    "    return y\n",
    "\n",
    "# Turns out we don't need to low pass filter since the audio source is already filtered\n",
    "# news_filt = butter_lowpass_filter(newspaper, 3.5e3, fs=48e3)\n",
    "news_upsampled = resample_poly(hil_newspaper, 25, 3).astype(np.complex64) # resample to 400KHz\n",
    "swiftfox.smartspec(news_upsampled, samp_rate=samp_rate)\n",
    "plt.show()"
   ]
  },
  {
   "cell_type": "code",
   "execution_count": null,
   "id": "53df1ae1-9c17-4558-9902-fadb7bdd6ce2",
   "metadata": {},
   "outputs": [],
   "source": [
    "plt.plot(hil_newspaper);plt.show()"
   ]
  },
  {
   "cell_type": "code",
   "execution_count": null,
   "id": "bd8d436b-87c6-4cf5-a6ea-6b773a37055b",
   "metadata": {},
   "outputs": [],
   "source": [
    "pad_required = int(60*samp_rate - news_upsampled.shape[0])\n",
    "pad_front = int(8 * samp_rate)\n",
    "print(pad_required/400e3)\n",
    "samps_news_padded = np.hstack((\n",
    "    np.zeros(pad_front, dtype=np.complex64),\n",
    "    news_upsampled,\n",
    "    np.zeros(pad_required-pad_front, dtype=np.complex64)))\n",
    "samps_news_padded.shape[0]/400e3"
   ]
  },
  {
   "cell_type": "code",
   "execution_count": null,
   "id": "345868d9-98d8-4fd8-a93d-1233011dbf98",
   "metadata": {},
   "outputs": [],
   "source": [
    "shifted = swiftfox.freqshift((samps_news_padded / 1e6/10), samp_rate, -65e3).astype(np.complex64) #-65k\n",
    "merged2 = merged + shifted\n",
    "# merged2[pad_front:pad_front+len(shifted)] += shifted\n",
    "# merged2 = merged2.astype(np.complex64)\n",
    "plt.figure(figsize=(16,9))\n",
    "swiftfox.summary(merged2, samp_rate=samp_rate)\n",
    "plt.show()"
   ]
  },
  {
   "cell_type": "markdown",
   "id": "b3107fa3-5e35-4a86-8f0c-6d68edc1a682",
   "metadata": {},
   "source": [
    "### Add Cat Piano"
   ]
  },
  {
   "cell_type": "code",
   "execution_count": null,
   "id": "ea1cd863-94e6-4d5f-afb9-85f6e27b3d6b",
   "metadata": {},
   "outputs": [],
   "source": [
    "_, cat_piano = wavfile.read('cat_piano.wav')\n",
    "cat_piano = cat_piano.T[0] # Left Channel Only\n",
    "hil_cat = hilbert(cat_piano.astype(np.float32)).astype(np.complex64) # now we have SSB-SC (USB) version\n",
    "len(hil_cat)/48e3"
   ]
  },
  {
   "cell_type": "code",
   "execution_count": null,
   "id": "4d1e1780-aee7-4262-8041-c7c8ebf8e6ed",
   "metadata": {},
   "outputs": [],
   "source": [
    "hil_cat.shape"
   ]
  },
  {
   "cell_type": "code",
   "execution_count": null,
   "id": "a71e39a0-f1db-4b79-a804-ac9520f5751a",
   "metadata": {},
   "outputs": [],
   "source": [
    "cat_upsampled = resample_poly(hil_cat, 25, 3).astype(np.complex64)\n",
    "pad_required = int(60*samp_rate - cat_upsampled.shape[0])\n",
    "pad_front = int(4 * samp_rate)\n",
    "print(pad_required/400e3)\n",
    "samps_cat_padded = np.hstack((\n",
    "    np.zeros(pad_front, dtype=np.complex64),\n",
    "    cat_upsampled,\n",
    "    np.zeros(pad_required-pad_front, dtype=np.complex64)))\n",
    "samps_cat_padded.shape[0]/400e3"
   ]
  },
  {
   "cell_type": "code",
   "execution_count": null,
   "id": "a1a46bb4-279d-4672-9a2e-83b3da201266",
   "metadata": {},
   "outputs": [],
   "source": [
    "shifted = swiftfox.freqshift((samps_cat_padded / 1e6/50), samp_rate, 8.5e3).astype(np.complex64)\n",
    "merged3 = merged2 + shifted\n",
    "# merged2[pad_front:pad_front+len(shifted)] += shifted\n",
    "# merged2 = merged2.astype(np.complex64)\n",
    "plt.figure(figsize=(16,9))\n",
    "swiftfox.summary(merged3, samp_rate=samp_rate)\n",
    "plt.show()"
   ]
  },
  {
   "cell_type": "markdown",
   "id": "2f278a56-0111-4184-95db-b8fd306ab205",
   "metadata": {},
   "source": [
    "### Add Cat Piano"
   ]
  },
  {
   "cell_type": "code",
   "execution_count": null,
   "id": "76f684c1-cb3e-4442-b0fb-19514220d1d1",
   "metadata": {},
   "outputs": [],
   "source": [
    "_, cat_piano = wavfile.read('cat_piano.wav')\n",
    "cat_piano = cat_piano.T[0] # left channel only\n",
    "cat_piano_ssb = hilbert(cat_piano.astype(np.float32)).astype(np.complex64) # now we have SSB-SC (USB) version"
   ]
  },
  {
   "cell_type": "code",
   "execution_count": null,
   "id": "bc8a0ef0-65ae-42c3-be7d-3aeaccf5e2de",
   "metadata": {},
   "outputs": [],
   "source": [
    "cat_upsampled = resample_poly(cat_piano_ssb, 25, 3).astype(np.complex64) # resample to 400KHz"
   ]
  },
  {
   "cell_type": "code",
   "execution_count": null,
   "id": "a9af3c11-ef81-4dc3-8aeb-85c8603ae545",
   "metadata": {},
   "outputs": [],
   "source": [
    "pad_required = int(60 * samp_rate - cat_upsampled.shape[0])\n",
    "pad_front = int(4 * samp_rate)\n",
    "print(pad_required/400e3)\n",
    "cat_padded = np.hstack((\n",
    "    np.zeros(pad_front,dtype=np.complex64),\n",
    "    cat_upsampled,\n",
    "    np.zeros(pad_required-pad_front,dtype=np.complex64)))\n",
    "cat_padded.shape[0]/400e3"
   ]
  },
  {
   "cell_type": "markdown",
   "id": "90ca3976-1941-47d3-b83e-9735881442d2",
   "metadata": {},
   "source": [
    "## Write SigMF Archive"
   ]
  },
  {
   "cell_type": "code",
   "execution_count": null,
   "id": "03bbec01-5fe0-4667-8c5a-f66dceca11c9",
   "metadata": {},
   "outputs": [],
   "source": [
    "import datetime as dt\n",
    "import numpy as np\n",
    "import sigmf\n",
    "from sigmf import SigMFFile\n",
    "from sigmf.utils import get_data_type_str\n",
    "\n",
    "# write those samples to file in cf32_le\n",
    "merged3.tofile('/tmp/wanted.sigmf-data')\n",
    "\n",
    "# create the metadata\n",
    "meta = SigMFFile(\n",
    "    data_file='/tmp/wanted.sigmf-data', # extension is optional\n",
    "    global_info = {\n",
    "        SigMFFile.DATATYPE_KEY: get_data_type_str(merged3),  # in this case, 'cf32_le'\n",
    "        SigMFFile.SAMPLE_RATE_KEY: samp_rate,\n",
    "        SigMFFile.AUTHOR_KEY: 'Kyle Logue (K6OF)',\n",
    "        SigMFFile.DESCRIPTION_KEY: 'GrCon2022 Aero part1: wanted',\n",
    "        SigMFFile.VERSION_KEY: sigmf.__version__,\n",
    "        SigMFFile.LICENSE_KEY: \"https://creativecommons.org/licenses/by-sa/4.0/\",\n",
    "    }\n",
    ")\n",
    "\n",
    "# create a capture key at time index 0\n",
    "meta.add_capture(0, metadata={\n",
    "    SigMFFile.FREQUENCY_KEY: 14125000.010244548,\n",
    "    SigMFFile.DATETIME_KEY: \"2022-08-28T23:25:15.111497000Z\",\n",
    "})\n",
    "\n",
    "meta.add_annotation(int(4*samp_rate), len(cat_upsampled), metadata = {\n",
    "    SigMFFile.FLO_KEY: 14125000-8.5e3,#-14125000,\n",
    "    SigMFFile.FHI_KEY: 14125000-8.5e3+4e3,#-14125000,\n",
    "    SigMFFile.COMMENT_KEY: 'cat piano',\n",
    "})\n",
    "\n",
    "# add an annotation at sample 100 with length 200 & 10 KHz width\n",
    "meta.add_annotation(int(8*samp_rate), len(news_upsampled), metadata = {\n",
    "    SigMFFile.FLO_KEY: 14190000.0,#-14125000,\n",
    "    SigMFFile.FHI_KEY: 14190000.0+3.5e3,#-14125000,\n",
    "    SigMFFile.COMMENT_KEY: 'a clue',\n",
    "})\n",
    "\n",
    "# check for mistakes & write to disk\n",
    "assert meta.validate()\n",
    "meta.archive('wanted.sigmf')\n",
    "_=swiftfox.summary(merged3, samp_rate=400e3, sigmf_predict=meta._metadata)"
   ]
  },
  {
   "cell_type": "markdown",
   "id": "f797dce5-da80-4fbb-b57f-23b6ce61f064",
   "metadata": {},
   "source": [
    "## Test Decode Wanted Poster"
   ]
  },
  {
   "cell_type": "code",
   "execution_count": null,
   "id": "45115fed-a20a-40dd-ad1e-c10120d68e00",
   "metadata": {},
   "outputs": [],
   "source": [
    "shifted = swiftfox.freqshift(merged3, samp_rate, -79.06e3-100e3).astype(np.complex64)\n",
    "butterup = butter_lowpass_filter(shifted, 10e3, samp_rate)[int(samp_rate*12):int(samp_rate*35)]"
   ]
  },
  {
   "cell_type": "code",
   "execution_count": null,
   "id": "db4828d2-ce3a-4908-82ae-78d754ac5a92",
   "metadata": {},
   "outputs": [],
   "source": [
    "_=swiftfox.summary(butterup,samp_rate=samp_rate)"
   ]
  },
  {
   "cell_type": "code",
   "execution_count": null,
   "id": "57cb6584-e379-420f-9344-b08ef1ba697d",
   "metadata": {},
   "outputs": [],
   "source": [
    "indent = 468000+370\n",
    "butterup2 = butterup[indent:indent+107*97*777]\n",
    "phase = np.unwrap(np.angle(butterup2))"
   ]
  },
  {
   "cell_type": "code",
   "execution_count": null,
   "id": "687471b5-9031-4b35-84f5-27798509fddb",
   "metadata": {},
   "outputs": [],
   "source": [
    "plt.figure(figsize=(16,9))\n",
    "# plt.plot(butterup2[7500000:], lw=.1)\n",
    "for idx in range(10):\n",
    "    plt.axvline(idx*777)\n",
    "plt.plot(phase[0:10000])\n",
    "plt.grid()\n",
    "plt.show()"
   ]
  },
  {
   "cell_type": "code",
   "execution_count": null,
   "id": "cf83cbb6-1e2d-4d05-8aed-8987a979c8cc",
   "metadata": {},
   "outputs": [],
   "source": [
    "resampled = resample_poly(phase, 1, 777)\n",
    "bits = np.hstack((np.diff(resampled)>1, [0]))\n",
    "plt.plot(bits)\n",
    "plt.show()\n",
    "bits.shape, 107*97\n"
   ]
  },
  {
   "cell_type": "code",
   "execution_count": null,
   "id": "c42d31f8-fc9d-4cfb-98c8-6c8f93ea7e8c",
   "metadata": {},
   "outputs": [],
   "source": [
    "plt.imshow(bits.reshape(107,97), cmap='gray')"
   ]
  },
  {
   "cell_type": "markdown",
   "id": "e0b236b8-00bf-4f08-befe-d26ec1d8acee",
   "metadata": {},
   "source": [
    "# Trash AM Demod Down Here\n",
    "At one point I encoded the signal as a grayscale image, but thought black and white was easier to detect."
   ]
  },
  {
   "cell_type": "code",
   "execution_count": null,
   "id": "aef8c34a-7e3f-4985-8101-ca4569e769f1",
   "metadata": {},
   "outputs": [],
   "source": [
    "with Image.open('2022-09_gort-wanted_v1.png') as img:\n",
    "    # display(img)\n",
    "    # display(img.convert('1'))\n",
    "    npimg = np.array(img.convert('L'))\n",
    "plt.imshow(npimg)\n",
    "plt.show()"
   ]
  },
  {
   "cell_type": "code",
   "execution_count": null,
   "id": "68371abc-280d-4ad8-8370-9ccc9948b376",
   "metadata": {},
   "outputs": [],
   "source": [
    "am_bits = npimg.ravel().astype(np.float).repeat(sps)\n",
    "am_bits.shape"
   ]
  },
  {
   "cell_type": "code",
   "execution_count": null,
   "id": "94b89bb5-edd7-4127-b59b-5af4ddc6177d",
   "metadata": {},
   "outputs": [],
   "source": [
    "baud = 2000\n",
    "samp_rate = 400e3\n",
    "print(10379/baud)\n",
    "sps = samp_rate/baud\n",
    "print('sps',sps)"
   ]
  },
  {
   "cell_type": "code",
   "execution_count": null,
   "id": "34820c9e-5faa-466a-93c3-4d932f019781",
   "metadata": {},
   "outputs": [],
   "source": [
    "am_bits"
   ]
  },
  {
   "cell_type": "code",
   "execution_count": null,
   "id": "837ccbe4-e6f0-4ba2-a038-bb34cbe67587",
   "metadata": {},
   "outputs": [],
   "source": [
    "# shiftray = np.exp(1j*np.arange(len(am_bits))) * 2 * np.pi *  / samp_rate\n",
    "shifted = swiftfox.freqshift((am_bits.astype(np.complex64) / 3e6), samp_rate, -75e3)\n",
    "merged = shifted + samps[0:len(shifted)]\n",
    "shifted.shape, samps.shape"
   ]
  },
  {
   "cell_type": "code",
   "execution_count": null,
   "id": "b868dd62-84d1-41d6-b9f9-439a4444b90a",
   "metadata": {},
   "outputs": [],
   "source": []
  },
  {
   "cell_type": "code",
   "execution_count": null,
   "id": "16a72260-6a3f-4dba-adf7-57ba1997d3b7",
   "metadata": {},
   "outputs": [],
   "source": [
    "unshifted = swiftfox.freqshift(merged, samp_rate, 75e3)"
   ]
  },
  {
   "cell_type": "code",
   "execution_count": null,
   "id": "85205a34-3284-435b-ae10-26c36f81689d",
   "metadata": {},
   "outputs": [],
   "source": [
    "plt.figure(figsize=(16,9))\n",
    "_=swiftfox.smartspec(unshifted, samp_rate=samp_rate)"
   ]
  },
  {
   "cell_type": "code",
   "execution_count": null,
   "id": "9e73369a-9a35-41be-a3c4-288beae40c49",
   "metadata": {},
   "outputs": [],
   "source": [
    "from scipy.signal import resample_poly"
   ]
  },
  {
   "cell_type": "code",
   "execution_count": null,
   "id": "7afd1a6f-f18b-42ca-a273-07e2c48fda58",
   "metadata": {},
   "outputs": [],
   "source": [
    "zippy = resample_poly(np.abs(butter_lowpass_filter(unshifted, 5e3, 400e3)), 1, sps)\n",
    "plt.plot(zippy[0:97*10])\n",
    "plt.show()"
   ]
  },
  {
   "cell_type": "code",
   "execution_count": null,
   "id": "30b459e7-1f1b-4a35-b23c-732d243811ea",
   "metadata": {},
   "outputs": [],
   "source": [
    "plt.imshow(zippy.reshape(107,97), cmap='gray')\n",
    "plt.show()"
   ]
  },
  {
   "cell_type": "code",
   "execution_count": null,
   "id": "789103b1-4d57-4ffa-9ba0-725ee57eef2a",
   "metadata": {},
   "outputs": [],
   "source": []
  }
 ],
 "metadata": {
  "kernelspec": {
   "display_name": "Python 3 (ipykernel)",
   "language": "python",
   "name": "python3"
  },
  "language_info": {
   "codemirror_mode": {
    "name": "ipython",
    "version": 3
   },
   "file_extension": ".py",
   "mimetype": "text/x-python",
   "name": "python",
   "nbconvert_exporter": "python",
   "pygments_lexer": "ipython3",
   "version": "3.10.4"
  }
 },
 "nbformat": 4,
 "nbformat_minor": 5
}
